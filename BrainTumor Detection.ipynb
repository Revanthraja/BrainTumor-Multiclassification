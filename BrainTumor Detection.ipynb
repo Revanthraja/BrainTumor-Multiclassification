{
 "cells": [
  {
   "cell_type": "code",
   "execution_count": 1,
   "id": "ed11b9f7",
   "metadata": {},
   "outputs": [],
   "source": [
    "import numpy as np\n",
    "from tensorflow.keras.preprocessing.image import ImageDataGenerator\n",
    "from tensorflow.keras.layers import Conv2D,MaxPool2D,Dense,Dropout,Activation,Flatten,MaxPooling2D\n",
    "from tensorflow.keras.models import Sequential,load_model\n"
   ]
  },
  {
   "cell_type": "code",
   "execution_count": 2,
   "id": "1c7489a6",
   "metadata": {},
   "outputs": [],
   "source": [
    "train_data=ImageDataGenerator(\n",
    "        rescale=1./255,\n",
    "    shear_range=0.2,\n",
    "    zoom_range=0.2,\n",
    "    horizontal_flip=False\n",
    "    )"
   ]
  },
  {
   "cell_type": "code",
   "execution_count": 7,
   "id": "b9886a85",
   "metadata": {},
   "outputs": [
    {
     "name": "stdout",
     "output_type": "stream",
     "text": [
      "Found 2870 images belonging to 4 classes.\n"
     ]
    }
   ],
   "source": [
    "train_set=train_data.flow_from_directory(\n",
    "    \"Training\",\n",
    "    target_size=(64,64),\n",
    "    batch_size=32,\n",
    "    class_mode='categorical'\n",
    ")"
   ]
  },
  {
   "cell_type": "code",
   "execution_count": 8,
   "id": "6980b30f",
   "metadata": {},
   "outputs": [],
   "source": [
    "test_data=ImageDataGenerator(\n",
    "    rescale=1./255)"
   ]
  },
  {
   "cell_type": "code",
   "execution_count": 9,
   "id": "8e1f12e0",
   "metadata": {},
   "outputs": [
    {
     "name": "stdout",
     "output_type": "stream",
     "text": [
      "Found 394 images belonging to 4 classes.\n"
     ]
    }
   ],
   "source": [
    "test_set=test_data.flow_from_directory(\n",
    "    \"Testing\",\n",
    "    target_size=(64,64),\n",
    "    batch_size=32,\n",
    "    class_mode=\"categorical\"\n",
    "\n",
    ")"
   ]
  },
  {
   "cell_type": "code",
   "execution_count": 10,
   "id": "0c6d9ee0",
   "metadata": {},
   "outputs": [],
   "source": [
    "model=Sequential()"
   ]
  },
  {
   "cell_type": "code",
   "execution_count": 13,
   "id": "8c662ee0",
   "metadata": {},
   "outputs": [],
   "source": [
    "model.add(Conv2D(64,(3,3),activation='relu',input_shape=(64,64,3)))\n",
    "model.add(MaxPooling2D(2,2))"
   ]
  },
  {
   "cell_type": "code",
   "execution_count": 14,
   "id": "00458292",
   "metadata": {},
   "outputs": [],
   "source": [
    "model.add(Conv2D(128,(3,3),activation='relu'))\n",
    "model.add(MaxPooling2D(2,2))\n",
    "model.add(Conv2D(256,(3,3),activation='relu'))\n",
    "model.add(MaxPooling2D(2,2))\n",
    "model.add(Conv2D(512,(3,3),activation='relu'))\n",
    "model.add(MaxPooling2D(2,2))"
   ]
  },
  {
   "cell_type": "code",
   "execution_count": 15,
   "id": "24447963",
   "metadata": {},
   "outputs": [],
   "source": [
    "model.add(Dropout(0.5))\n",
    "model.add(Flatten())"
   ]
  },
  {
   "cell_type": "code",
   "execution_count": 16,
   "id": "de76e8c7",
   "metadata": {},
   "outputs": [],
   "source": [
    "model.add(Dense(256,activation='relu'))\n",
    "model.add(Dense(256,activation='relu'))\n",
    "model.add(Dense(128,activation='relu'))"
   ]
  },
  {
   "cell_type": "code",
   "execution_count": 17,
   "id": "5dbf2f12",
   "metadata": {},
   "outputs": [],
   "source": [
    "model.add(Dense(4,activation='softmax'))"
   ]
  },
  {
   "cell_type": "code",
   "execution_count": 18,
   "id": "61936d56",
   "metadata": {},
   "outputs": [],
   "source": [
    "model.compile(optimizer='adam',loss='categorical_crossentropy',metrics=['accuracy'])"
   ]
  },
  {
   "cell_type": "code",
   "execution_count": 19,
   "id": "91d5b143",
   "metadata": {},
   "outputs": [
    {
     "name": "stdout",
     "output_type": "stream",
     "text": [
      "Epoch 1/15\n",
      "90/90 [==============================] - 62s 666ms/step - loss: 1.2681 - accuracy: 0.3801 - val_loss: 1.6981 - val_accuracy: 0.2462\n",
      "Epoch 2/15\n",
      "90/90 [==============================] - 35s 387ms/step - loss: 0.9829 - accuracy: 0.5599 - val_loss: 1.8509 - val_accuracy: 0.2944\n",
      "Epoch 3/15\n",
      "90/90 [==============================] - 36s 394ms/step - loss: 0.8591 - accuracy: 0.6199 - val_loss: 2.2694 - val_accuracy: 0.2792\n",
      "Epoch 4/15\n",
      "90/90 [==============================] - 37s 411ms/step - loss: 0.7790 - accuracy: 0.6645 - val_loss: 2.1744 - val_accuracy: 0.3147\n",
      "Epoch 5/15\n",
      "90/90 [==============================] - 36s 397ms/step - loss: 0.7030 - accuracy: 0.7118 - val_loss: 2.4597 - val_accuracy: 0.3503\n",
      "Epoch 6/15\n",
      "90/90 [==============================] - 36s 395ms/step - loss: 0.6362 - accuracy: 0.7387 - val_loss: 2.1148 - val_accuracy: 0.3909\n",
      "Epoch 7/15\n",
      "90/90 [==============================] - 34s 380ms/step - loss: 0.5988 - accuracy: 0.7523 - val_loss: 2.2385 - val_accuracy: 0.3629\n",
      "Epoch 8/15\n",
      "90/90 [==============================] - 39s 433ms/step - loss: 0.5462 - accuracy: 0.7760 - val_loss: 2.7024 - val_accuracy: 0.3807\n",
      "Epoch 9/15\n",
      "90/90 [==============================] - 38s 417ms/step - loss: 0.5000 - accuracy: 0.7955 - val_loss: 1.9508 - val_accuracy: 0.5838\n",
      "Epoch 10/15\n",
      "90/90 [==============================] - 37s 408ms/step - loss: 0.4463 - accuracy: 0.8199 - val_loss: 2.4676 - val_accuracy: 0.5533\n",
      "Epoch 11/15\n",
      "90/90 [==============================] - 37s 407ms/step - loss: 0.4457 - accuracy: 0.8220 - val_loss: 2.5386 - val_accuracy: 0.5761\n",
      "Epoch 12/15\n",
      "90/90 [==============================] - 36s 404ms/step - loss: 0.3827 - accuracy: 0.8411 - val_loss: 2.7437 - val_accuracy: 0.5914\n",
      "Epoch 13/15\n",
      "90/90 [==============================] - 38s 422ms/step - loss: 0.3748 - accuracy: 0.8477 - val_loss: 2.2231 - val_accuracy: 0.6396\n",
      "Epoch 14/15\n",
      "90/90 [==============================] - 34s 375ms/step - loss: 0.3270 - accuracy: 0.8770 - val_loss: 2.3770 - val_accuracy: 0.6294\n",
      "Epoch 15/15\n",
      "90/90 [==============================] - 35s 387ms/step - loss: 0.3214 - accuracy: 0.8850 - val_loss: 2.4551 - val_accuracy: 0.6142\n"
     ]
    },
    {
     "data": {
      "text/plain": [
       "<keras.callbacks.History at 0x1e8fcb108b0>"
      ]
     },
     "execution_count": 19,
     "metadata": {},
     "output_type": "execute_result"
    }
   ],
   "source": [
    "model.fit(x=train_set,validation_data=test_set,epochs=15)"
   ]
  },
  {
   "cell_type": "code",
   "execution_count": 20,
   "id": "e2d3453b",
   "metadata": {},
   "outputs": [],
   "source": [
    "model.save(\"Brain.h5\")"
   ]
  },
  {
   "cell_type": "code",
   "execution_count": 27,
   "id": "89234fe3",
   "metadata": {},
   "outputs": [],
   "source": [
    "model=load_model(\"Brain.h5\")"
   ]
  },
  {
   "cell_type": "code",
   "execution_count": 25,
   "id": "a9d1e7af",
   "metadata": {},
   "outputs": [
    {
     "data": {
      "text/plain": [
       "{'glioma_tumor': 0, 'meningioma_tumor': 1, 'no_tumor': 2, 'pituitary_tumor': 3}"
      ]
     },
     "execution_count": 25,
     "metadata": {},
     "output_type": "execute_result"
    }
   ],
   "source": [
    "train_set.class_indices"
   ]
  },
  {
   "cell_type": "code",
   "execution_count": 23,
   "id": "398bb927",
   "metadata": {},
   "outputs": [
    {
     "name": "stdout",
     "output_type": "stream",
     "text": [
      "1/1 [==============================] - 0s 259ms/step\n"
     ]
    }
   ],
   "source": [
    "from tensorflow.keras.preprocessing import image\n",
    "test_image=image.load_img(\"men.jpg\",target_size=(64,64))\n",
    "test_image=image.img_to_array(test_image)\n",
    "test_image=np.expand_dims(test_image,axis=0)\n",
    "result=model.predict(test_image)"
   ]
  },
  {
   "cell_type": "code",
   "execution_count": 24,
   "id": "b57ec1a1",
   "metadata": {},
   "outputs": [
    {
     "data": {
      "text/plain": [
       "array([[0., 1., 0., 0.]], dtype=float32)"
      ]
     },
     "execution_count": 24,
     "metadata": {},
     "output_type": "execute_result"
    }
   ],
   "source": [
    "result"
   ]
  },
  {
   "cell_type": "code",
   "execution_count": 26,
   "id": "b80e87e7",
   "metadata": {},
   "outputs": [
    {
     "name": "stdout",
     "output_type": "stream",
     "text": [
      "Meningioma Tumor\n"
     ]
    }
   ],
   "source": [
    "if result[0][0]==1:\n",
    "    print(\"glioma Tumor\")\n",
    "elif result[0][1]==1:\n",
    "    print(\"Meningioma Tumor\")\n",
    "elif result[0][2]==1:\n",
    "    print(\"Normal Image\")\n",
    "elif result[0][3]==1:\n",
    "    print(\"Pituitary Tumor\")"
   ]
  },
  {
   "cell_type": "code",
   "execution_count": null,
   "id": "d27e0f2a",
   "metadata": {},
   "outputs": [],
   "source": []
  }
 ],
 "metadata": {
  "kernelspec": {
   "display_name": "Python 3 (ipykernel)",
   "language": "python",
   "name": "python3"
  },
  "language_info": {
   "codemirror_mode": {
    "name": "ipython",
    "version": 3
   },
   "file_extension": ".py",
   "mimetype": "text/x-python",
   "name": "python",
   "nbconvert_exporter": "python",
   "pygments_lexer": "ipython3",
   "version": "3.9.12"
  }
 },
 "nbformat": 4,
 "nbformat_minor": 5
}
